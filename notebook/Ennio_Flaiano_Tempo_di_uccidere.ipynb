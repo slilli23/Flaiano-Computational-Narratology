{
  "nbformat": 4,
  "nbformat_minor": 0,
  "metadata": {
    "colab": {
      "provenance": [],
      "authorship_tag": "ABX9TyMXueAimphNg3o57pRTZgmP",
      "include_colab_link": true
    },
    "kernelspec": {
      "name": "python3",
      "display_name": "Python 3"
    },
    "language_info": {
      "name": "python"
    }
  },
  "cells": [
    {
      "cell_type": "markdown",
      "metadata": {
        "id": "view-in-github",
        "colab_type": "text"
      },
      "source": [
        "<a href=\"https://colab.research.google.com/github/slilli23/Flaiano-Computational-Narratology/blob/main/Ennio_Flaiano_Tempo_di_uccidere.ipynb\" target=\"_parent\"><img src=\"https://colab.research.google.com/assets/colab-badge.svg\" alt=\"Open In Colab\"/></a>"
      ]
    },
    {
      "cell_type": "markdown",
      "source": [
        "# The Reflected Gaze. (Post)Colonial perspectives in *Tempo di Uccidere* by Ennio Flaiano.\n",
        "\n",
        "This code reproduce the analysis conducted for the paper proposed for the *Computational Humanities Research* special issue on Computational Narratology.\n",
        "\n",
        "**Abstract**\n",
        "\n",
        "TBD"
      ],
      "metadata": {
        "id": "PQm_5epwLDOQ"
      }
    },
    {
      "cell_type": "markdown",
      "source": [
        "Import from GitHub the repository with the source annotations."
      ],
      "metadata": {
        "id": "OH9h2DwxWxdQ"
      }
    },
    {
      "cell_type": "code",
      "execution_count": 1,
      "metadata": {
        "id": "6ekCXK1RK9MQ",
        "colab": {
          "base_uri": "https://localhost:8080/"
        },
        "outputId": "2b73d538-94b8-44c0-d45d-2ec943fa35fb"
      },
      "outputs": [
        {
          "output_type": "stream",
          "name": "stdout",
          "text": [
            "Cloning into 'Flaiano-Computational-Narratology'...\n",
            "remote: Enumerating objects: 47, done.\u001b[K\n",
            "remote: Counting objects: 100% (47/47), done.\u001b[K\n",
            "remote: Compressing objects: 100% (37/37), done.\u001b[K\n",
            "remote: Total 47 (delta 9), reused 0 (delta 0), pack-reused 0 (from 0)\u001b[K\n",
            "Receiving objects: 100% (47/47), 3.57 MiB | 4.80 MiB/s, done.\n",
            "Resolving deltas: 100% (9/9), done.\n",
            "/content/Flaiano-Computational-Narratology\n"
          ]
        }
      ],
      "source": [
        "!git clone https://github.com/slilli23/Flaiano-Computational-Narratology.git\n",
        "%cd Flaiano-Computational-Narratology\n"
      ]
    }
  ]
}
